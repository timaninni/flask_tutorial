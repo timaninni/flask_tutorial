{
 "cells": [
  {
   "cell_type": "markdown",
   "source": [
    "# Aula 1 - get Starting"
   ],
   "metadata": {
    "collapsed": false
   },
   "id": "c16143ec69a028b3"
  },
  {
   "cell_type": "markdown",
   "source": [
    "https://www.youtube.com/watch?v=MwZwr5Tvyxo&list=PL-osiE80TeTs4UjLw5MM6OjgkjFeUxCYH&index=1"
   ],
   "metadata": {
    "collapsed": false
   },
   "id": "8b7cd2236755b97"
  },
  {
   "cell_type": "markdown",
   "source": [
    "criar o projeto\n",
    "debug mode"
   ],
   "metadata": {
    "collapsed": false
   },
   "id": "d7a952240dcc40d"
  },
  {
   "cell_type": "code",
   "outputs": [],
   "source": [
    "from flask import Flask\n",
    "\n",
    "app = Flask(__name__)\n",
    "\n",
    "@app.route('/')\n",
    "@app.route('/home')\n",
    "def home():  # put application's code here\n",
    "    return '<h1>home page</1>'\n",
    "\n",
    "@app.route('/about')\n",
    "def about():  # put application's code here\n",
    "    return '<h1>about page</1>'\n",
    "\n",
    "\n",
    "if __name__ == '__main__':\n",
    "    app.run(debug=True)"
   ],
   "metadata": {
    "collapsed": false
   },
   "id": "7935565cdf0d408"
  },
  {
   "cell_type": "markdown",
   "source": [
    "# Aula 2 - templates"
   ],
   "metadata": {
    "collapsed": false
   },
   "id": "deac2e39525846d2"
  },
  {
   "cell_type": "markdown",
   "source": [
    "https://www.youtube.com/watch?v=QnDWIZuWYW0&list=PL-osiE80TeTs4UjLw5MM6OjgkjFeUxCYH&index=2"
   ],
   "metadata": {
    "collapsed": false
   },
   "id": "1e3633773f1c1364"
  },
  {
   "cell_type": "markdown",
   "source": [
    "para voltar a correr o codigo no terminar "
   ],
   "metadata": {
    "collapsed": false
   },
   "id": "5d9c6e13e80a3b41"
  },
  {
   "cell_type": "code",
   "outputs": [],
   "source": [
    "python app.py"
   ],
   "metadata": {
    "collapsed": false
   },
   "id": "f147aac79cacb1d5"
  },
  {
   "cell_type": "markdown",
   "source": [
    "## Passo 1 - coloar render_template no IMPORTE - LINHA 1"
   ],
   "metadata": {
    "collapsed": false
   },
   "id": "d4568184ae5adf02"
  },
  {
   "cell_type": "code",
   "execution_count": null,
   "id": "initial_id",
   "metadata": {
    "collapsed": true
   },
   "outputs": [],
   "source": [
    "from flask import Flask, render_template\n",
    "\n",
    "app = Flask(__name__)\n",
    "\n",
    "@app.route('/')\n",
    "@app.route('/home')\n",
    "def home():  # put application's code here\n",
    "    return '<h1>home page</1>'\n",
    "\n",
    "@app.route('/about')\n",
    "def about():  # put application's code here\n",
    "    return '<h1>about page</1>'\n",
    "\n",
    "\n",
    "if __name__ == '__main__':\n",
    "    app.run(debug=True)"
   ]
  },
  {
   "cell_type": "markdown",
   "source": [
    "## PASSO 2 - adicionar o caminho para o ficheiro HTML - LINHA 8 e 12"
   ],
   "metadata": {
    "collapsed": false
   },
   "id": "7550342637911075"
  },
  {
   "cell_type": "code",
   "outputs": [],
   "source": [
    "from flask import Flask, render_template\n",
    "\n",
    "app = Flask(__name__)\n",
    "\n",
    "@app.route('/')\n",
    "@app.route('/home')\n",
    "def home():  # put application's code here\n",
    "    return render_template('home.html')\n",
    "\n",
    "@app.route('/about')\n",
    "def about():  # put application's code here\n",
    "    return render_template('about.html')\n",
    "\n",
    "\n",
    "if __name__ == '__main__':\n",
    "    app.run(debug=True)"
   ],
   "metadata": {
    "collapsed": false
   },
   "id": "c7ab8faa2be1f2e9"
  },
  {
   "cell_type": "markdown",
   "source": [
    "## PASSO 3 - adicionada informação para criar os posts , LINHAS 5 A 18 E LINHA \n",
    "- 23"
   ],
   "metadata": {
    "collapsed": false
   },
   "id": "be6a81fb46805af9"
  },
  {
   "cell_type": "code",
   "outputs": [],
   "source": [
    "from flask import Flask, render_template\n",
    "\n",
    "app = Flask(__name__)\n",
    "\n",
    "posts =[\n",
    "    {\n",
    "        \"author\": \"Corey Schafer\",\n",
    "        \"title\" : \"Blog Post 1\",\n",
    "        \"content\" : \"First post content\",\n",
    "        \"date_posted\" : \"April 20, 20218\"\n",
    "    },\n",
    "{\n",
    "        \"author\": \"Jane Doe\",\n",
    "        \"title\" : \"Blog Post 2\",\n",
    "        \"content\" : \"Second post content\",\n",
    "        \"date_posted\" : \"April 21, 20218\"\n",
    "    },\n",
    "]\n",
    "\n",
    "@app.route('/')\n",
    "@app.route('/home')\n",
    "def home():  # put application's code here\n",
    "    return render_template('home.html', posts=posts)\n",
    "\n",
    "@app.route('/about')\n",
    "def about():  # put application's code here\n",
    "    return render_template('about.html')\n",
    "\n",
    "\n",
    "if __name__ == '__main__':\n",
    "    app.run(debug=True)\n"
   ],
   "metadata": {
    "collapsed": false
   },
   "id": "fc15c5f0139942a2"
  },
  {
   "cell_type": "markdown",
   "source": [
    "## PASSO 4 - no ficheiro HOME.HTML"
   ],
   "metadata": {
    "collapsed": false
   },
   "id": "e700a53b73c7b07"
  },
  {
   "cell_type": "markdown",
   "source": [
    "na linha 8 - o que temos depois do in o posts, essa variavel foi retirada do \n",
    "ficheiro app.py da linha 5 - como podemos ver aqui no ficheiro no passo \n",
    "anterior que tb foi atribuido na linha 23"
   ],
   "metadata": {
    "collapsed": false
   },
   "id": "1d3fb98e077dcc76"
  },
  {
   "cell_type": "code",
   "outputs": [],
   "source": [
    "<!DOCTYPE html>\n",
    "<html lang=\"en\">\n",
    "<head>\n",
    "    <meta charset=\"UTF-8\">\n",
    "    <title><h1>HOME page</H1></title>\n",
    "</head>\n",
    "<body>\n",
    "    {% for post in posts %}\n",
    "        <h1> {{ post.title }}</h1>\n",
    "        <p>bY {{ post.author }} on {{ post.date_posted }}</p>\n",
    "        <p>{{ post.content }}</p>\n",
    "    {% endfor %}\n",
    "</body>\n",
    "</html>"
   ],
   "metadata": {
    "collapsed": false
   },
   "id": "42b918e077adb2b"
  },
  {
   "cell_type": "markdown",
   "source": [
    "## PASSO 5 - adicionar titulo da pagina no head personalizavel na pagina HOME"
   ],
   "metadata": {
    "collapsed": false
   },
   "id": "f0092844d302c346"
  },
  {
   "cell_type": "code",
   "outputs": [],
   "source": [
    "<!DOCTYPE html>\n",
    "<html lang=\"en\">\n",
    "<head>\n",
    "    <meta charset=\"UTF-8\">\n",
    "    {% if title %}\n",
    "        <title>Flask Blog - {{ title }}</title>\n",
    "    {% else %}\n",
    "        <title> Flask Blog </title>\n",
    "    {% endif %}\n",
    "</head>"
   ],
   "metadata": {
    "collapsed": false
   },
   "id": "78495d59217a0091"
  },
  {
   "cell_type": "markdown",
   "source": [
    "para que na pagina ABOUT possa tb ir buscar um titulo automatico "
   ],
   "metadata": {
    "collapsed": false
   },
   "id": "a0761b3933dcfb75"
  },
  {
   "cell_type": "markdown",
   "source": [
    "HTML - IGUAL AO DO PASSO 5"
   ],
   "metadata": {
    "collapsed": false
   },
   "id": "c7f2a00186c833e9"
  },
  {
   "cell_type": "markdown",
   "source": [
    "App.py - adicionar title = about"
   ],
   "metadata": {
    "collapsed": false
   },
   "id": "b6918bfdf34b4c31"
  },
  {
   "cell_type": "code",
   "outputs": [],
   "source": [
    "@app.route('/about')\n",
    "def about():  # put application's code here\n",
    "    return render_template('about.html', title='About')"
   ],
   "metadata": {
    "collapsed": false
   },
   "id": "562c2089ceb2fe6"
  },
  {
   "cell_type": "markdown",
   "source": [
    "## PASSO 6 - layout base heranças entre layouts"
   ],
   "metadata": {
    "collapsed": false
   },
   "id": "3a7c4f44fd7d7c8e"
  },
  {
   "cell_type": "markdown",
   "source": [
    "criar um layout.html PAI para que os filhos HOME e ABOUT possa herdar as caracteristicas do PAI e tornar o codigo mais facil de atualizar e de tornare o codigo mais limpo  "
   ],
   "metadata": {
    "collapsed": false
   },
   "id": "6f1fd6d704450185"
  },
  {
   "cell_type": "markdown",
   "source": [
    "ficheiro layout.html"
   ],
   "metadata": {
    "collapsed": false
   },
   "id": "fe382e31a234f9ab"
  },
  {
   "cell_type": "code",
   "outputs": [],
   "source": [
    "<!DOCTYPE html>\n",
    "<html lang=\"en\">\n",
    "<head>\n",
    "    <meta charset=\"UTF-8\">\n",
    "    {% if title %}\n",
    "        <title>Flask Blog - {{ title }}</title>\n",
    "    {% else %}\n",
    "        <title> Flask Blog </title>\n",
    "    {% endif %}\n",
    "</head>\n",
    "<body>\n",
    "    {% block content %}{% endblock content %}\n",
    "</body>\n",
    "</html>"
   ],
   "metadata": {
    "collapsed": false
   },
   "id": "5c68666f67a24b4"
  },
  {
   "cell_type": "markdown",
   "source": [
    "no ficheiro home.html - apagar tudo o que vai ser herdado do layout e colocar\n",
    " a referencia onde vai buscar o layout"
   ],
   "metadata": {
    "collapsed": false
   },
   "id": "e410dcf1803290"
  },
  {
   "cell_type": "code",
   "outputs": [],
   "source": [
    "{% extends \"layout.html\" %}\n",
    "{% block content %}\n",
    "  {% for post in posts %}\n",
    "        <h1> {{ post.title }}</h1>\n",
    "        <p>bY {{ post.author }} on {{ post.date_posted }}</p>\n",
    "        <p>{{ post.content }}</p>\n",
    "    {% endfor %}\n",
    "{% endblock content %}"
   ],
   "metadata": {
    "collapsed": false
   },
   "id": "f590c8fd8c9802e5"
  },
  {
   "cell_type": "markdown",
   "source": [
    "agora na pagina about"
   ],
   "metadata": {
    "collapsed": false
   },
   "id": "1bbbbdcb7d5c81dd"
  },
  {
   "cell_type": "code",
   "outputs": [],
   "source": [
    "{% extends \"layout.html\" %}\n",
    "{% block content %}\n",
    "    <h1> About Page</h1>\n",
    "{% endblock content %}"
   ],
   "metadata": {
    "collapsed": false
   },
   "id": "dbf912c6d4120c4a"
  },
  {
   "cell_type": "markdown",
   "source": [
    "## PASSO 7 - bootstrap basico"
   ],
   "metadata": {
    "collapsed": false
   },
   "id": "9d426140048032cd"
  },
  {
   "cell_type": "markdown",
   "source": [
    "dar algum estilo à pagina layout - colocar bootstarp no head e no \n",
    "final junto do body - linhas 5 a 8, linhas 22 a 24, e adicionar um div \n",
    "container - linhas 17 a 19"
   ],
   "metadata": {
    "collapsed": false
   },
   "id": "633fd8fbf7956e08"
  },
  {
   "cell_type": "code",
   "outputs": [],
   "source": [
    "<!DOCTYPE html>\n",
    "<html lang=\"en\">\n",
    "<head>\n",
    "    <meta charset=\"utf-8\">\n",
    "    <meta name=\"viewport\" content=\"width=device-width, initial-scale=1, shrink-to-fit=no\">\n",
    "\n",
    "    <!-- Bootstrap CSS -->\n",
    "    <link rel=\"stylesheet\" href=\"https://cdn.jsdelivr.net/npm/bootstrap@4.0.0/dist/css/bootstrap.min.css\" integrity=\"sha384-Gn5384xqQ1aoWXA+058RXPxPg6fy4IWvTNh0E263XmFcJlSAwiGgFAW/dAiS6JXm\" crossorigin=\"anonymous\">\n",
    "\n",
    "    {% if title %}\n",
    "        <title>Flask Blog - {{ title }}</title>\n",
    "    {% else %}\n",
    "        <title> Flask Blog </title>\n",
    "    {% endif %}\n",
    "</head>\n",
    "<body>\n",
    "    <div class=\"container\">\n",
    "        {% block content %}{% endblock content %}\n",
    "    </div>\n",
    "    <!-- Optional JavaScript -->\n",
    "    <!-- jQuery first, then Popper.js, then Bootstrap JS -->\n",
    "    <script src=\"https://code.jquery.com/jquery-3.2.1.slim.min.js\" integrity=\"sha384-KJ3o2DKtIkvYIK3UENzmM7KCkRr/rE9/Qpg6aAZGJwFDMVNA/GpGFF93hXpG5KkN\" crossorigin=\"anonymous\"></script>\n",
    "    <script src=\"https://cdn.jsdelivr.net/npm/popper.js@1.12.9/dist/umd/popper.min.js\" integrity=\"sha384-ApNbgh9B+Y1QKtv3Rn7W3mgPxhU9K/ScQsAP7hUibX39j7fakFPskvXusvfa0b4Q\" crossorigin=\"anonymous\"></script>\n",
    "    <script src=\"https://cdn.jsdelivr.net/npm/bootstrap@4.0.0/dist/js/bootstrap.min.js\" integrity=\"sha384-JZR6Spejh4U02d8jOt6vLEHfe/JQGiRRSQQxSfFWpi1MquVdAyjUar5+76PVCmYl\" crossorigin=\"anonymous\"></script>\n",
    "</body>\n",
    "</html>"
   ],
   "metadata": {
    "collapsed": false
   },
   "id": "d41296b721545bd4"
  },
  {
   "cell_type": "markdown",
   "source": [
    "# PASSO 8 - Bootstrap mais completo"
   ],
   "metadata": {
    "collapsed": false
   },
   "id": "46cc896172ad2a3e"
  },
  {
   "cell_type": "markdown",
   "source": [
    "com chamada de css no layout.html, criação de um novo ficheiro main.css na pasta static"
   ],
   "metadata": {
    "collapsed": false
   },
   "id": "99bfc9c55a05fc4a"
  },
  {
   "cell_type": "markdown",
   "source": [
    "### 8.0 - criar o ficheiro main.css dentro da pasta static e colar todo o css"
   ],
   "metadata": {
    "collapsed": false
   },
   "id": "6857306dfe3b1f57"
  },
  {
   "cell_type": "markdown",
   "source": [
    "#### 8.0.1 - no ficheiro app.py "
   ],
   "metadata": {
    "collapsed": false
   },
   "id": "cc6d6a91a720203b"
  },
  {
   "cell_type": "code",
   "outputs": [],
   "source": [
    "from flask import Flask, render_template, url_for"
   ],
   "metadata": {
    "collapsed": false
   },
   "id": "61830ecce589d039"
  },
  {
   "cell_type": "markdown",
   "source": [
    "### 8.1 - chamar o main.css para o layout - no head"
   ],
   "metadata": {
    "collapsed": false
   },
   "id": "fa5a5bbe3204b59f"
  },
  {
   "cell_type": "code",
   "outputs": [],
   "source": [
    "<link rel=\"stylesheet\" type=\"text/css\" href=\"{{ url_for('static',filename='main.css' )}}\">"
   ],
   "metadata": {
    "collapsed": false
   },
   "id": "444aaa65dd389f48"
  },
  {
   "cell_type": "markdown",
   "source": [
    "### 8.2 - ficheiro layout.html - header"
   ],
   "metadata": {
    "collapsed": false
   },
   "id": "97765a436fdbdb99"
  },
  {
   "cell_type": "code",
   "outputs": [],
   "source": [
    "    <header class=\"site-header\">\n",
    "      <nav class=\"navbar navbar-expand-md navbar-dark bg-steel fixed-top\">\n",
    "        <div class=\"container\">\n",
    "          <a class=\"navbar-brand mr-4\" href=\"/\">Flask Blog</a>\n",
    "          <button class=\"navbar-toggler\" type=\"button\" data-toggle=\"collapse\" data-target=\"#navbarToggle\" aria-controls=\"navbarToggle\" aria-expanded=\"false\" aria-label=\"Toggle navigation\">\n",
    "            <span class=\"navbar-toggler-icon\"></span>\n",
    "          </button>\n",
    "          <div class=\"collapse navbar-collapse\" id=\"navbarToggle\">\n",
    "            <div class=\"navbar-nav mr-auto\">\n",
    "              <a class=\"nav-item nav-link\" href=\"/\">Home</a>\n",
    "              <a class=\"nav-item nav-link\" href=\"/about\">About</a>\n",
    "            </div>\n",
    "            <!-- Navbar Right Side -->\n",
    "            <div class=\"navbar-nav\">\n",
    "              <a class=\"nav-item nav-link\" href=\"/login\">Login</a>\n",
    "              <a class=\"nav-item nav-link\" href=\"/register\">Register</a>\n",
    "            </div>\n",
    "          </div>\n",
    "        </div>\n",
    "      </nav>\n",
    "    </header>"
   ],
   "metadata": {
    "collapsed": false
   },
   "id": "e0f007a190ab1317"
  },
  {
   "cell_type": "markdown",
   "source": [
    "### 8.2 - ficheiro layout.html - container"
   ],
   "metadata": {
    "collapsed": false
   },
   "id": "12848d6f1e92c52e"
  },
  {
   "cell_type": "code",
   "outputs": [],
   "source": [
    "<main role=\"main\" class=\"container\">\n",
    "      <div class=\"row\">\n",
    "        <div class=\"col-md-8\">\n",
    "          {% block content %}{% endblock %}\n",
    "        </div>\n",
    "        <div class=\"col-md-4\">\n",
    "          <div class=\"content-section\">\n",
    "            <h3>Our Sidebar</h3>\n",
    "            <p class='text-muted'>You can put any information here you'd like.\n",
    "              <ul class=\"list-group\">\n",
    "                <li class=\"list-group-item list-group-item-light\">Latest Posts</li>\n",
    "                <li class=\"list-group-item list-group-item-light\">Announcements</li>\n",
    "                <li class=\"list-group-item list-group-item-light\">Calendars</li>\n",
    "                <li class=\"list-group-item list-group-item-light\">etc</li>\n",
    "              </ul>\n",
    "            </p>\n",
    "          </div>\n",
    "        </div>\n",
    "      </div>\n",
    "    </main>\n"
   ],
   "metadata": {
    "collapsed": false
   },
   "id": "59c8e034aad528c2"
  },
  {
   "cell_type": "markdown",
   "source": [
    "### 8.3 - dar uma nova cara ao nosso post - ir ao ficheiro home e deixar assim:"
   ],
   "metadata": {
    "collapsed": false
   },
   "id": "c66226acbd6e7e3d"
  },
  {
   "cell_type": "code",
   "outputs": [],
   "source": [
    "{% extends \"layout.html\" %}\n",
    "{% block content %}\n",
    "  {% for post in posts %}\n",
    "        <article class=\"media content-section\">\n",
    "          <div class=\"media-body\">\n",
    "            <div class=\"article-metadata\">\n",
    "              <a class=\"mr-2\" href=\"#\">{{ post.author }}</a>\n",
    "              <small class=\"text-muted\">{{ post.date_posted }}</small>\n",
    "            </div>\n",
    "            <h2><a class=\"article-title\" href=\"#\">{{ post.title }}</a></h2>\n",
    "            <p class=\"article-content\">{{ post.content }}</p>\n",
    "          </div>\n",
    "        </article>\n",
    "    {% endfor %}\n",
    "{% endblock content %}"
   ],
   "metadata": {
    "collapsed": false
   },
   "id": "cae450ffd22a908b"
  },
  {
   "cell_type": "markdown",
   "source": [
    "# AULA 3 - forms and users"
   ],
   "metadata": {
    "collapsed": false
   },
   "id": "c2c452d18266ae7d"
  },
  {
   "cell_type": "markdown",
   "source": [
    "https://www.youtube.com/watch?v=UIJKdCIEXUQ&list=PL-osiE80TeTs4UjLw5MM6OjgkjFeUxCYH&index=3"
   ],
   "metadata": {
    "collapsed": false
   },
   "id": "fca2a6595f0fb3e"
  },
  {
   "cell_type": "markdown",
   "source": [
    "## PASSO 1 - instalar WTF"
   ],
   "metadata": {
    "collapsed": false
   },
   "id": "949594b1f226c5fb"
  },
  {
   "cell_type": "markdown",
   "source": [
    "ir à pasta do projeto e na barra do caminho escrever "
   ],
   "metadata": {
    "collapsed": false
   },
   "id": "3e5b3272e5b25ac3"
  },
  {
   "cell_type": "code",
   "outputs": [],
   "source": [
    "pip install flask-wtf"
   ],
   "metadata": {
    "collapsed": false
   },
   "id": "f6eef58b1e78ec57"
  },
  {
   "cell_type": "markdown",
   "source": [
    "## passo 2 - criar ficheiro python para formularios"
   ],
   "metadata": {
    "collapsed": false
   },
   "id": "5cebc267c088eaba"
  },
  {
   "cell_type": "code",
   "outputs": [],
   "source": [],
   "metadata": {
    "collapsed": false
   },
   "id": "354eb7e1bb440024"
  }
 ],
 "metadata": {
  "kernelspec": {
   "display_name": "Python 3",
   "language": "python",
   "name": "python3"
  },
  "language_info": {
   "codemirror_mode": {
    "name": "ipython",
    "version": 2
   },
   "file_extension": ".py",
   "mimetype": "text/x-python",
   "name": "python",
   "nbconvert_exporter": "python",
   "pygments_lexer": "ipython2",
   "version": "2.7.6"
  }
 },
 "nbformat": 4,
 "nbformat_minor": 5
}
